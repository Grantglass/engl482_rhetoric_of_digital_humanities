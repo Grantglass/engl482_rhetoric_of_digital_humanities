{
 "cells": [
  {
   "cell_type": "code",
   "execution_count": 1,
   "metadata": {},
   "outputs": [],
   "source": [
    "# THE ART OF NAMING <- this is a comment!\n",
    "\n",
    "'''\n",
    "This is an alternate way of commenting.\n",
    "Helpful for multiple lines.\n",
    "'''\n",
    "\n",
    "# rules for valid variable names in Python\n",
    "# 1) variable names cannot start with numbers\n",
    "# 2) variable names cannot include symbols (except for the \"_\")\n",
    "# 3) variable names cannot include spaces\n",
    "\n",
    "asdfasdf_asdfadsf = None\n",
    "\n",
    "# while the above variable name is valid, it is not a good variable name,\n",
    "# when writing code, we should always adhere to the ethics of variable naming:\n",
    "# 1) the variable name should tell you something about the kind of data being referred to\n",
    "# 2) the name should tell you about the significance of the data being referred to\n",
    "\n",
    "the_endless_void = None\n",
    "\n",
    "# \"None\" is a keyword that tells the interpreter to set value to nothing\n",
    "# For a list of all Python keywords, see link:\n",
    "# https://www.w3schools.com/python/python_ref_keywords.asp\n",
    "\n",
    "# Keyboard shortcut for running a notebook cell:\n",
    "# Shift + Enter"
   ]
  },
  {
   "cell_type": "code",
   "execution_count": 2,
   "metadata": {},
   "outputs": [],
   "source": [
    "# FOOLS FOR BOOLS\n",
    "\n",
    "# the boolean, or \"bool,\" is a datatype that keeps track of True or False\n",
    "# for a list of datatypes in Python, see link:\n",
    "# https://www.tutorialsteacher.com/python/python-data-types\n",
    "\n",
    "grant_likes_python = True\n",
    "\n",
    "grant_likes_java = False\n",
    "\n",
    "grant_is_a_programmer = grant_likes_python and grant_likes_java\n",
    "\n",
    "# the line above uses the \"and\" keyword, which you use to evaluate a\n",
    "# statement as either True or False. For \"and\" to evaluate as True,\n",
    "# both values surrounding it must also be True"
   ]
  },
  {
   "cell_type": "code",
   "execution_count": 3,
   "metadata": {},
   "outputs": [
    {
     "data": {
      "text/plain": [
       "False"
      ]
     },
     "execution_count": 3,
     "metadata": {},
     "output_type": "execute_result"
    }
   ],
   "source": [
    "# one way to \"see\" the value of a variable when working in iPython\n",
    "# notebooks is to simply execute, as the last line of your cell, a\n",
    "# variable name. i.e.:\n",
    "\n",
    "grant_is_a_programmer "
   ]
  },
  {
   "cell_type": "code",
   "execution_count": 4,
   "metadata": {},
   "outputs": [
    {
     "data": {
      "text/plain": [
       "True"
      ]
     },
     "execution_count": 4,
     "metadata": {},
     "output_type": "execute_result"
    }
   ],
   "source": [
    "am_hungry = False\n",
    "am_feeling_weak = True\n",
    "should_eat_something = am_hungry or am_feeling_weak\n",
    "\n",
    "# similar to \"and,\" the keyword \"or\" in the line above returns either\n",
    "# True or False, but with \"or,\" _either_ value on either side must be\n",
    "# True for it to return True\n",
    "\n",
    "should_eat_something"
   ]
  },
  {
   "cell_type": "code",
   "execution_count": 5,
   "metadata": {},
   "outputs": [
    {
     "data": {
      "text/plain": [
       "False"
      ]
     },
     "execution_count": 5,
     "metadata": {},
     "output_type": "execute_result"
    }
   ],
   "source": [
    "have_eaten_recently = True\n",
    "\n",
    "should_eat_something = (am_hungry or am_feeling_weak) and not have_eaten_recently\n",
    "\n",
    "# when surrounding a statement with parentheses, the interpreter will\n",
    "# evaluate what's in the parentheses _first_ before proceeding to\n",
    "# evaluate the rest of the line. we're also using the keyword \"not\"\n",
    "# above, which always _negates_ whatever follows it.\n",
    "\n",
    "should_eat_something"
   ]
  },
  {
   "cell_type": "code",
   "execution_count": 6,
   "metadata": {},
   "outputs": [
    {
     "data": {
      "text/plain": [
       "False"
      ]
     },
     "execution_count": 6,
     "metadata": {},
     "output_type": "execute_result"
    }
   ],
   "source": [
    "# LUMBER WITH NUMBERS\n",
    "\n",
    "fence_posts_owned = 12\n",
    "fence_posts_required = 20\n",
    "\n",
    "enough_fence_posts = fence_posts_owned == fence_posts_required\n",
    "\n",
    "# the equality operator (==) is used to compare two values,\n",
    "# and only evaluates to True if the values on both sides of it\n",
    "# are the same.\n",
    "\n",
    "enough_fence_posts"
   ]
  },
  {
   "cell_type": "code",
   "execution_count": 7,
   "metadata": {},
   "outputs": [
    {
     "data": {
      "text/plain": [
       "8"
      ]
     },
     "execution_count": 7,
     "metadata": {},
     "output_type": "execute_result"
    }
   ],
   "source": [
    "fence_posts_to_buy = fence_posts_required - fence_posts_owned\n",
    "\n",
    "# you can subtract using the minus operator (-), which subtracts\n",
    "# the second value from the first value.\n",
    "\n",
    "fence_posts_to_buy"
   ]
  },
  {
   "cell_type": "code",
   "execution_count": 8,
   "metadata": {},
   "outputs": [
    {
     "data": {
      "text/plain": [
       "True"
      ]
     },
     "execution_count": 8,
     "metadata": {},
     "output_type": "execute_result"
    }
   ],
   "source": [
    "fence_posts_bought = fence_posts_to_buy\n",
    "\n",
    "enough_fence_posts = (fence_posts_owned + fence_posts_bought) == fence_posts_required\n",
    "\n",
    "# you can add using the plus operator (+)\n",
    "\n",
    "enough_fence_posts"
   ]
  },
  {
   "cell_type": "code",
   "execution_count": 9,
   "metadata": {},
   "outputs": [
    {
     "data": {
      "text/plain": [
       "22"
      ]
     },
     "execution_count": 9,
     "metadata": {},
     "output_type": "execute_result"
    }
   ],
   "source": [
    "fence_posts_required = fence_posts_required + 1\n",
    "fence_posts_required += 1\n",
    "\n",
    "# the above two lines have the same effect! the first line is\n",
    "# more explicit (you're incrementing the value by adding 1),\n",
    "# but the second line is a shortcut. most developers use\n",
    "# the second convention.\n",
    "\n",
    "fence_posts_required"
   ]
  },
  {
   "cell_type": "code",
   "execution_count": 10,
   "metadata": {},
   "outputs": [
    {
     "data": {
      "text/plain": [
       "'Hi! My name is \"Bob\" Grant\\'s \"'"
      ]
     },
     "execution_count": 10,
     "metadata": {},
     "output_type": "execute_result"
    }
   ],
   "source": [
    "# FLINGS WITH STRINGS\n",
    "\n",
    "my_name = \"Grant's \\\"\"\n",
    "greeting = 'Hi! My name is \"Bob\" '\n",
    "\n",
    "# you can create \"strings\" by surrounding text with one of three\n",
    "# options. double-quotes, single-quotes, or three single-quotes.\n",
    "\n",
    "full_greeting = greeting + my_name\n",
    "\n",
    "# you can concatenate strings together by using the plus operator\n",
    "\n",
    "full_greeting"
   ]
  },
  {
   "cell_type": "code",
   "execution_count": 11,
   "metadata": {},
   "outputs": [
    {
     "data": {
      "text/plain": [
       "\"\\n    here's a bunch of\\n    multiline text\\n    so keep track of all of it!\\n\""
      ]
     },
     "execution_count": 11,
     "metadata": {},
     "output_type": "execute_result"
    }
   ],
   "source": [
    "large_block_of_text = '''\n",
    "    here's a bunch of\n",
    "    multiline text\n",
    "    so keep track of all of it!\n",
    "'''\n",
    "\n",
    "# the option of using triple single-quotes is useful if you need\n",
    "# to create strings that span multiple lines\n",
    "\n",
    "large_block_of_text"
   ]
  },
  {
   "cell_type": "code",
   "execution_count": 12,
   "metadata": {},
   "outputs": [
    {
     "name": "stdout",
     "output_type": "stream",
     "text": [
      "\n",
      "    here's a bunch of\n",
      "    multiline text\n",
      "    so keep track of all of it!\n",
      "\n"
     ]
    }
   ],
   "source": [
    "print(large_block_of_text)\n",
    "\n",
    "# the \"print\" function is one of the built-in functions that come\n",
    "# with Python, and it always just prints the value of whatever\n",
    "# you pass in to the console (or in this case, the \"output\" of our\n",
    "# notebook cell)"
   ]
  },
  {
   "cell_type": "code",
   "execution_count": 13,
   "metadata": {},
   "outputs": [
    {
     "ename": "TypeError",
     "evalue": "Can't convert 'int' object to str implicitly",
     "output_type": "error",
     "traceback": [
      "\u001b[0;31m---------------------------------------------------------------------------\u001b[0m",
      "\u001b[0;31mTypeError\u001b[0m                                 Traceback (most recent call last)",
      "\u001b[0;32m<ipython-input-13-b2c479a49b2d>\u001b[0m in \u001b[0;36m<module>\u001b[0;34m()\u001b[0m\n\u001b[1;32m      1\u001b[0m \u001b[0mgreeting\u001b[0m \u001b[0;34m=\u001b[0m \u001b[0;34m'Hi! I need this many fenceposts: '\u001b[0m\u001b[0;34m\u001b[0m\u001b[0m\n\u001b[0;32m----> 2\u001b[0;31m \u001b[0mfull_request\u001b[0m \u001b[0;34m=\u001b[0m \u001b[0mgreeting\u001b[0m \u001b[0;34m+\u001b[0m \u001b[0mfence_posts_to_buy\u001b[0m\u001b[0;34m\u001b[0m\u001b[0m\n\u001b[0m\u001b[1;32m      3\u001b[0m \u001b[0;34m\u001b[0m\u001b[0m\n\u001b[1;32m      4\u001b[0m \u001b[0;31m# DANGER! this cell, when executed, will cause an error.\u001b[0m\u001b[0;34m\u001b[0m\u001b[0;34m\u001b[0m\u001b[0m\n\u001b[1;32m      5\u001b[0m \u001b[0;31m# the reason is because we're trying to use the plus operator\u001b[0m\u001b[0;34m\u001b[0m\u001b[0;34m\u001b[0m\u001b[0m\n",
      "\u001b[0;31mTypeError\u001b[0m: Can't convert 'int' object to str implicitly"
     ]
    }
   ],
   "source": [
    "greeting = 'Hi! I need this many fenceposts: '\n",
    "full_request = greeting + fence_posts_to_buy\n",
    "\n",
    "# DANGER! this cell, when executed, will cause an error.\n",
    "# the reason is because we're trying to use the plus operator\n",
    "# to combine two different datatypes. \"greeting\" is a string,\n",
    "# and \"fence_posts_to_buy\" is a number."
   ]
  },
  {
   "cell_type": "code",
   "execution_count": 14,
   "metadata": {},
   "outputs": [
    {
     "data": {
      "text/plain": [
       "'Hi! I need this many fenceposts: 8'"
      ]
     },
     "execution_count": 14,
     "metadata": {},
     "output_type": "execute_result"
    }
   ],
   "source": [
    "greeting = 'Hi! I need this many fenceposts: '\n",
    "full_request = greeting + str(fence_posts_to_buy)\n",
    "\n",
    "# one way to handle the problem posed by the previous cell is\n",
    "# to use the built-in function \"str,\" which will always take\n",
    "# whatever you pass in and return a string. since str(fence_posts_to_buy)\n",
    "# converts the number referenced by fence_posts_to_buy into a string,\n",
    "# our attempt to concatenate those strings will now work!\n",
    "\n",
    "# for a list of all built-in functions in Python, see link:\n",
    "# https://docs.python.org/3/library/functions.html\n",
    "\n",
    "full_request"
   ]
  },
  {
   "cell_type": "code",
   "execution_count": null,
   "metadata": {},
   "outputs": [],
   "source": []
  }
 ],
 "metadata": {
  "kernelspec": {
   "display_name": "Python 3",
   "language": "python",
   "name": "python3"
  },
  "language_info": {
   "codemirror_mode": {
    "name": "ipython",
    "version": 3
   },
   "file_extension": ".py",
   "mimetype": "text/x-python",
   "name": "python",
   "nbconvert_exporter": "python",
   "pygments_lexer": "ipython3",
   "version": "3.5.1"
  }
 },
 "nbformat": 4,
 "nbformat_minor": 2
}
